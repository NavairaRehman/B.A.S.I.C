{
 "cells": [
  {
   "cell_type": "code",
   "execution_count": 2,
   "id": "bdee8fd1",
   "metadata": {},
   "outputs": [
    {
     "name": "stdout",
     "output_type": "stream",
     "text": [
      "<class 'dict'>\n",
      "dict_keys(['categories'])\n"
     ]
    }
   ],
   "source": [
    "import json\n",
    "\n",
    "with open(\"data/funds_transfer_app_features_faq (1).json\", \"r\", encoding=\"utf-8\") as f:\n",
    "    json_data = json.load(f)\n",
    "\n",
    "# If it's a list of dicts (like rows)\n",
    "print(type(json_data))\n",
    "print(json_data.keys())\n",
    "\n"
   ]
  },
  {
   "cell_type": "code",
   "execution_count": 4,
   "id": "829c301a",
   "metadata": {},
   "outputs": [
    {
     "name": "stdout",
     "output_type": "stream",
     "text": [
      "2\n",
      "{'category': 'Funds Transfer / RAAST', 'questions': [{'question': 'Is there a limit on the amount I can transfer through the mobile banking app?', 'answer': 'Yes, 1 million is the current daily limit. Transfer limits vary based on your account type. Check the “Limits” section in the app for specifics on daily transfer limits.'}, {'question': 'How can I change limit of funds transfer?', 'answer': 'To change your funds, transfer limit, go to the “My profile” section and select “Manage Limit” in the app, then select “Change FT/IBFT” limits.'}, {'question': 'How can I add or update beneficiaries/ recipients of mobile banking app for funds transfer?', 'answer': 'In the app, navigate to the “Transfer Funds” section and select “New Beneficiaries.” Here, you can choose to add a new beneficiary by entering their details or update existing beneficiary information.'}, {'question': 'How do I perform international transactions through mobile app?', 'answer': 'One can enable international transactions by tapping on card management, select manage debit card and choose “international tranx activation” option.'}, {'question': 'Does the app support contactless payments or digital wallets?', 'answer': 'For contactless payments NUST Bank has a separate mobile app named as NUST Digital Wallets. Customers can download and perform payments.'}]}\n"
     ]
    }
   ],
   "source": [
    "categories = json_data[\"categories\"]\n",
    "print(len(categories))\n",
    "print(categories[0])  # see first item\n"
   ]
  },
  {
   "cell_type": "code",
   "execution_count": 5,
   "id": "e1e8e33a",
   "metadata": {},
   "outputs": [
    {
     "name": "stdout",
     "output_type": "stream",
     "text": [
      "\n",
      "--- Category 1 ---\n",
      "category: <class 'str'>\n",
      "questions: <class 'list'>\n",
      "\n",
      "--- Category 2 ---\n",
      "category: <class 'str'>\n",
      "questions: <class 'list'>\n"
     ]
    }
   ],
   "source": [
    "for i, cat in enumerate(categories[:3]):  # limit to first 3 for preview\n",
    "    print(f\"\\n--- Category {i+1} ---\")\n",
    "    for key, value in cat.items():\n",
    "        print(f\"{key}: {type(value)}\")\n"
   ]
  }
 ],
 "metadata": {
  "kernelspec": {
   "display_name": "dna",
   "language": "python",
   "name": "python3"
  },
  "language_info": {
   "codemirror_mode": {
    "name": "ipython",
    "version": 3
   },
   "file_extension": ".py",
   "mimetype": "text/x-python",
   "name": "python",
   "nbconvert_exporter": "python",
   "pygments_lexer": "ipython3",
   "version": "3.12.9"
  }
 },
 "nbformat": 4,
 "nbformat_minor": 5
}
