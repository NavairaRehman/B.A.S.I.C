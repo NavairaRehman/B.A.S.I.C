{
 "cells": [
  {
   "cell_type": "code",
   "execution_count": 2,
   "id": "bdee8fd1",
   "metadata": {},
   "outputs": [
    {
     "name": "stdout",
     "output_type": "stream",
     "text": [
      "<class 'dict'>\n",
      "dict_keys(['categories'])\n"
     ]
    }
   ],
   "source": [
    "import json\n",
    "\n",
    "with open(\"data/funds_transfer_app_features_faq (1).json\", \"r\", encoding=\"utf-8\") as f:\n",
    "    json_data = json.load(f)\n",
    "\n",
    "# If it's a list of dicts (like rows)\n",
    "print(type(json_data))\n",
    "print(json_data.keys())\n",
    "\n"
   ]
  }
 ],
 "metadata": {
  "kernelspec": {
   "display_name": "dna",
   "language": "python",
   "name": "python3"
  },
  "language_info": {
   "codemirror_mode": {
    "name": "ipython",
    "version": 3
   },
   "file_extension": ".py",
   "mimetype": "text/x-python",
   "name": "python",
   "nbconvert_exporter": "python",
   "pygments_lexer": "ipython3",
   "version": "3.12.9"
  }
 },
 "nbformat": 4,
 "nbformat_minor": 5
}
